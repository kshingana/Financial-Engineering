{
 "cells": [
  {
   "cell_type": "markdown",
   "id": "512afc96",
   "metadata": {},
   "source": [
    " - Name : Kaustubh Arun Shingana\n",
    " - Roll Number : E21008"
   ]
  },
  {
   "cell_type": "code",
   "execution_count": 9,
   "id": "330a281d",
   "metadata": {},
   "outputs": [],
   "source": [
    "import numpy as np\n",
    "import pandas as pd\n",
    "from sklearn.model_selection import train_test_split\n",
    "from sklearn.preprocessing import StandardScaler\n",
    "from sklearn.linear_model import LogisticRegression\n",
    "from sklearn.pipeline import Pipeline\n",
    "from sklearn.metrics import roc_curve, roc_auc_score, classification_report, accuracy_score, confusion_matrix \n",
    "import seaborn as sns\n",
    "import matplotlib.pyplot as plt\n",
    "from sklearn.linear_model import LogisticRegression\n",
    "from sklearn import metrics\n",
    "from sklearn.model_selection import cross_val_score\n",
    "from pandas_datareader import data as pdr\n",
    "import yfinance as yf\n",
    "yf.pdr_override()\n",
    "import talib as ta"
   ]
  },
  {
   "cell_type": "code",
   "execution_count": 10,
   "id": "715e9fac",
   "metadata": {},
   "outputs": [
    {
     "name": "stdout",
     "output_type": "stream",
     "text": [
      "[*********************100%***********************]  1 of 1 completed\n"
     ]
    },
    {
     "data": {
      "text/html": [
       "<div>\n",
       "<style scoped>\n",
       "    .dataframe tbody tr th:only-of-type {\n",
       "        vertical-align: middle;\n",
       "    }\n",
       "\n",
       "    .dataframe tbody tr th {\n",
       "        vertical-align: top;\n",
       "    }\n",
       "\n",
       "    .dataframe thead th {\n",
       "        text-align: right;\n",
       "    }\n",
       "</style>\n",
       "<table border=\"1\" class=\"dataframe\">\n",
       "  <thead>\n",
       "    <tr style=\"text-align: right;\">\n",
       "      <th></th>\n",
       "      <th>Open</th>\n",
       "      <th>High</th>\n",
       "      <th>Low</th>\n",
       "      <th>Close</th>\n",
       "    </tr>\n",
       "    <tr>\n",
       "      <th>Date</th>\n",
       "      <th></th>\n",
       "      <th></th>\n",
       "      <th></th>\n",
       "      <th></th>\n",
       "    </tr>\n",
       "  </thead>\n",
       "  <tbody>\n",
       "    <tr>\n",
       "      <th>2007-09-17</th>\n",
       "      <td>6898.000000</td>\n",
       "      <td>6977.200195</td>\n",
       "      <td>6843.000000</td>\n",
       "      <td>6897.100098</td>\n",
       "    </tr>\n",
       "    <tr>\n",
       "      <th>2007-09-18</th>\n",
       "      <td>6921.149902</td>\n",
       "      <td>7078.950195</td>\n",
       "      <td>6883.600098</td>\n",
       "      <td>7059.649902</td>\n",
       "    </tr>\n",
       "    <tr>\n",
       "      <th>2007-09-19</th>\n",
       "      <td>7111.000000</td>\n",
       "      <td>7419.350098</td>\n",
       "      <td>7111.000000</td>\n",
       "      <td>7401.850098</td>\n",
       "    </tr>\n",
       "    <tr>\n",
       "      <th>2007-09-20</th>\n",
       "      <td>7404.950195</td>\n",
       "      <td>7462.899902</td>\n",
       "      <td>7343.600098</td>\n",
       "      <td>7390.149902</td>\n",
       "    </tr>\n",
       "    <tr>\n",
       "      <th>2007-09-21</th>\n",
       "      <td>7378.299805</td>\n",
       "      <td>7506.350098</td>\n",
       "      <td>7367.149902</td>\n",
       "      <td>7464.500000</td>\n",
       "    </tr>\n",
       "  </tbody>\n",
       "</table>\n",
       "</div>"
      ],
      "text/plain": [
       "                   Open         High          Low        Close\n",
       "Date                                                          \n",
       "2007-09-17  6898.000000  6977.200195  6843.000000  6897.100098\n",
       "2007-09-18  6921.149902  7078.950195  6883.600098  7059.649902\n",
       "2007-09-19  7111.000000  7419.350098  7111.000000  7401.850098\n",
       "2007-09-20  7404.950195  7462.899902  7343.600098  7390.149902\n",
       "2007-09-21  7378.299805  7506.350098  7367.149902  7464.500000"
      ]
     },
     "execution_count": 10,
     "metadata": {},
     "output_type": "execute_result"
    }
   ],
   "source": [
    "#Reading BANKNIFTY Data\n",
    "df = pdr.get_data_yahoo('^NSEBANK', '2000-01-01', '2021-08-15')\n",
    "df = df.dropna()\n",
    "df = df.iloc[:,:4]\n",
    "df.head()"
   ]
  },
  {
   "cell_type": "markdown",
   "id": "fd01378e",
   "metadata": {},
   "source": [
    "We will use 10-days moving average, correlation, relative strength index (RSI), the difference between the open price of yesterday and today, difference close price of yesterday and the open price of today, open, high, low, and close price as indicators to make the prediction."
   ]
  },
  {
   "cell_type": "code",
   "execution_count": 28,
   "id": "077f0cf2",
   "metadata": {},
   "outputs": [],
   "source": [
    "#Simple Moving Average\n",
    "df['S_10'] = df['Close'].rolling(window=10).mean()"
   ]
  },
  {
   "cell_type": "code",
   "execution_count": 29,
   "id": "5d67603b",
   "metadata": {},
   "outputs": [],
   "source": [
    "#Corr w.r.t SMA 10\n",
    "df['Corr'] = df['Close'].rolling(window=10).corr(df['S_10'])"
   ]
  },
  {
   "cell_type": "code",
   "execution_count": 11,
   "id": "3e8d99ad",
   "metadata": {},
   "outputs": [],
   "source": [
    "#Making RSI Indicator\n",
    "df['RSI'] = ta.RSI(np.array(df['Close']), timeperiod =10)"
   ]
  },
  {
   "cell_type": "code",
   "execution_count": 13,
   "id": "fc61939f",
   "metadata": {},
   "outputs": [],
   "source": [
    "# Yesterday Close - Open Price\n",
    "df['Open-Close'] = df['Open'] - df['Close'].shift(1)\n",
    "df['Open-Open'] = df['Open'] - df['Open'].shift(1)\n"
   ]
  },
  {
   "cell_type": "code",
   "execution_count": 14,
   "id": "2baf35b6",
   "metadata": {},
   "outputs": [],
   "source": [
    "df = df.dropna()"
   ]
  },
  {
   "cell_type": "code",
   "execution_count": 16,
   "id": "0ae809ff",
   "metadata": {},
   "outputs": [
    {
     "data": {
      "text/html": [
       "<div>\n",
       "<style scoped>\n",
       "    .dataframe tbody tr th:only-of-type {\n",
       "        vertical-align: middle;\n",
       "    }\n",
       "\n",
       "    .dataframe tbody tr th {\n",
       "        vertical-align: top;\n",
       "    }\n",
       "\n",
       "    .dataframe thead th {\n",
       "        text-align: right;\n",
       "    }\n",
       "</style>\n",
       "<table border=\"1\" class=\"dataframe\">\n",
       "  <thead>\n",
       "    <tr style=\"text-align: right;\">\n",
       "      <th></th>\n",
       "      <th>Open</th>\n",
       "      <th>High</th>\n",
       "      <th>Low</th>\n",
       "      <th>Close</th>\n",
       "      <th>RSI</th>\n",
       "      <th>Open-Close</th>\n",
       "      <th>Open-Open</th>\n",
       "    </tr>\n",
       "    <tr>\n",
       "      <th>Date</th>\n",
       "      <th></th>\n",
       "      <th></th>\n",
       "      <th></th>\n",
       "      <th></th>\n",
       "      <th></th>\n",
       "      <th></th>\n",
       "      <th></th>\n",
       "    </tr>\n",
       "  </thead>\n",
       "  <tbody>\n",
       "    <tr>\n",
       "      <th>2007-10-01</th>\n",
       "      <td>8008.549805</td>\n",
       "      <td>8085.149902</td>\n",
       "      <td>7913.299805</td>\n",
       "      <td>7987.500000</td>\n",
       "      <td>93.040946</td>\n",
       "      <td>-33.650391</td>\n",
       "      <td>170.299805</td>\n",
       "    </tr>\n",
       "    <tr>\n",
       "      <th>2007-10-03</th>\n",
       "      <td>8029.799805</td>\n",
       "      <td>8235.799805</td>\n",
       "      <td>7820.250000</td>\n",
       "      <td>8097.899902</td>\n",
       "      <td>93.655357</td>\n",
       "      <td>42.299805</td>\n",
       "      <td>21.250000</td>\n",
       "    </tr>\n",
       "    <tr>\n",
       "      <th>2007-10-04</th>\n",
       "      <td>8083.299805</td>\n",
       "      <td>8086.700195</td>\n",
       "      <td>7828.649902</td>\n",
       "      <td>8035.899902</td>\n",
       "      <td>88.765098</td>\n",
       "      <td>-14.600098</td>\n",
       "      <td>53.500000</td>\n",
       "    </tr>\n",
       "    <tr>\n",
       "      <th>2007-10-05</th>\n",
       "      <td>8038.100098</td>\n",
       "      <td>8066.549805</td>\n",
       "      <td>7789.700195</td>\n",
       "      <td>7845.250000</td>\n",
       "      <td>75.326620</td>\n",
       "      <td>2.200195</td>\n",
       "      <td>-45.199707</td>\n",
       "    </tr>\n",
       "    <tr>\n",
       "      <th>2007-10-08</th>\n",
       "      <td>7853.149902</td>\n",
       "      <td>7935.450195</td>\n",
       "      <td>7516.450195</td>\n",
       "      <td>7626.399902</td>\n",
       "      <td>63.135370</td>\n",
       "      <td>7.899902</td>\n",
       "      <td>-184.950195</td>\n",
       "    </tr>\n",
       "    <tr>\n",
       "      <th>...</th>\n",
       "      <td>...</td>\n",
       "      <td>...</td>\n",
       "      <td>...</td>\n",
       "      <td>...</td>\n",
       "      <td>...</td>\n",
       "      <td>...</td>\n",
       "      <td>...</td>\n",
       "    </tr>\n",
       "    <tr>\n",
       "      <th>2021-08-09</th>\n",
       "      <td>35824.199219</td>\n",
       "      <td>36159.851562</td>\n",
       "      <td>35612.300781</td>\n",
       "      <td>36028.949219</td>\n",
       "      <td>64.984920</td>\n",
       "      <td>14.949219</td>\n",
       "      <td>-51.601562</td>\n",
       "    </tr>\n",
       "    <tr>\n",
       "      <th>2021-08-10</th>\n",
       "      <td>35954.550781</td>\n",
       "      <td>36317.000000</td>\n",
       "      <td>35890.500000</td>\n",
       "      <td>36034.101562</td>\n",
       "      <td>65.058096</td>\n",
       "      <td>-74.398438</td>\n",
       "      <td>130.351562</td>\n",
       "    </tr>\n",
       "    <tr>\n",
       "      <th>2021-08-11</th>\n",
       "      <td>36218.250000</td>\n",
       "      <td>36227.550781</td>\n",
       "      <td>35531.351562</td>\n",
       "      <td>35806.398438</td>\n",
       "      <td>59.003103</td>\n",
       "      <td>184.148438</td>\n",
       "      <td>263.699219</td>\n",
       "    </tr>\n",
       "    <tr>\n",
       "      <th>2021-08-12</th>\n",
       "      <td>35825.398438</td>\n",
       "      <td>35998.148438</td>\n",
       "      <td>35702.898438</td>\n",
       "      <td>35937.050781</td>\n",
       "      <td>61.299438</td>\n",
       "      <td>19.000000</td>\n",
       "      <td>-392.851562</td>\n",
       "    </tr>\n",
       "    <tr>\n",
       "      <th>2021-08-13</th>\n",
       "      <td>36000.750000</td>\n",
       "      <td>36233.300781</td>\n",
       "      <td>35937.101562</td>\n",
       "      <td>36169.351562</td>\n",
       "      <td>65.155224</td>\n",
       "      <td>63.699219</td>\n",
       "      <td>175.351562</td>\n",
       "    </tr>\n",
       "  </tbody>\n",
       "</table>\n",
       "<p>3119 rows × 7 columns</p>\n",
       "</div>"
      ],
      "text/plain": [
       "                    Open          High           Low         Close        RSI  \\\n",
       "Date                                                                            \n",
       "2007-10-01   8008.549805   8085.149902   7913.299805   7987.500000  93.040946   \n",
       "2007-10-03   8029.799805   8235.799805   7820.250000   8097.899902  93.655357   \n",
       "2007-10-04   8083.299805   8086.700195   7828.649902   8035.899902  88.765098   \n",
       "2007-10-05   8038.100098   8066.549805   7789.700195   7845.250000  75.326620   \n",
       "2007-10-08   7853.149902   7935.450195   7516.450195   7626.399902  63.135370   \n",
       "...                  ...           ...           ...           ...        ...   \n",
       "2021-08-09  35824.199219  36159.851562  35612.300781  36028.949219  64.984920   \n",
       "2021-08-10  35954.550781  36317.000000  35890.500000  36034.101562  65.058096   \n",
       "2021-08-11  36218.250000  36227.550781  35531.351562  35806.398438  59.003103   \n",
       "2021-08-12  35825.398438  35998.148438  35702.898438  35937.050781  61.299438   \n",
       "2021-08-13  36000.750000  36233.300781  35937.101562  36169.351562  65.155224   \n",
       "\n",
       "            Open-Close   Open-Open  \n",
       "Date                                \n",
       "2007-10-01  -33.650391  170.299805  \n",
       "2007-10-03   42.299805   21.250000  \n",
       "2007-10-04  -14.600098   53.500000  \n",
       "2007-10-05    2.200195  -45.199707  \n",
       "2007-10-08    7.899902 -184.950195  \n",
       "...                ...         ...  \n",
       "2021-08-09   14.949219  -51.601562  \n",
       "2021-08-10  -74.398438  130.351562  \n",
       "2021-08-11  184.148438  263.699219  \n",
       "2021-08-12   19.000000 -392.851562  \n",
       "2021-08-13   63.699219  175.351562  \n",
       "\n",
       "[3119 rows x 7 columns]"
      ]
     },
     "execution_count": 16,
     "metadata": {},
     "output_type": "execute_result"
    }
   ],
   "source": [
    "X = df.iloc[:,:9]\n",
    "X"
   ]
  },
  {
   "cell_type": "markdown",
   "id": "0111ce0e",
   "metadata": {},
   "source": [
    "The simple Strategy is, If tomorrow’s closing price is higher than today’s closing price, then we will buy the stock (1), else we will sell it (-1).\n",
    "so lets define the strategy andd putting the same in df\n"
   ]
  },
  {
   "cell_type": "code",
   "execution_count": 17,
   "id": "c6263dd6",
   "metadata": {},
   "outputs": [],
   "source": [
    "y = np.where(df['Close'].shift(-1) > df['Close'],1,-1)"
   ]
  },
  {
   "cell_type": "code",
   "execution_count": 19,
   "id": "7b9ecbf2",
   "metadata": {},
   "outputs": [],
   "source": [
    "#making train test split\n",
    "split = int(0.7*len(df))\n",
    "X_train, X_test, y_train, y_test = X[:split], X[split:], y[:split], y[split:]"
   ]
  },
  {
   "cell_type": "code",
   "execution_count": 21,
   "id": "8cd02153",
   "metadata": {},
   "outputs": [],
   "source": [
    "#Fitting Logistics Regression model to train\n",
    "model = LogisticRegression()\n",
    "model = model.fit (X_train,y_train)"
   ]
  },
  {
   "cell_type": "code",
   "execution_count": 22,
   "id": "5931e125",
   "metadata": {},
   "outputs": [
    {
     "data": {
      "text/html": [
       "<div>\n",
       "<style scoped>\n",
       "    .dataframe tbody tr th:only-of-type {\n",
       "        vertical-align: middle;\n",
       "    }\n",
       "\n",
       "    .dataframe tbody tr th {\n",
       "        vertical-align: top;\n",
       "    }\n",
       "\n",
       "    .dataframe thead th {\n",
       "        text-align: right;\n",
       "    }\n",
       "</style>\n",
       "<table border=\"1\" class=\"dataframe\">\n",
       "  <thead>\n",
       "    <tr style=\"text-align: right;\">\n",
       "      <th></th>\n",
       "      <th>0</th>\n",
       "      <th>1</th>\n",
       "    </tr>\n",
       "  </thead>\n",
       "  <tbody>\n",
       "    <tr>\n",
       "      <th>0</th>\n",
       "      <td>Open</td>\n",
       "      <td>[-0.0014193151081736124]</td>\n",
       "    </tr>\n",
       "    <tr>\n",
       "      <th>1</th>\n",
       "      <td>High</td>\n",
       "      <td>[0.0007235049292818937]</td>\n",
       "    </tr>\n",
       "    <tr>\n",
       "      <th>2</th>\n",
       "      <td>Low</td>\n",
       "      <td>[0.0008105051462531683]</td>\n",
       "    </tr>\n",
       "    <tr>\n",
       "      <th>3</th>\n",
       "      <td>Close</td>\n",
       "      <td>[-0.00010784161163547046]</td>\n",
       "    </tr>\n",
       "    <tr>\n",
       "      <th>4</th>\n",
       "      <td>RSI</td>\n",
       "      <td>[2.171917774233977e-05]</td>\n",
       "    </tr>\n",
       "    <tr>\n",
       "      <th>5</th>\n",
       "      <td>Open-Close</td>\n",
       "      <td>[0.0006793375442596124]</td>\n",
       "    </tr>\n",
       "    <tr>\n",
       "      <th>6</th>\n",
       "      <td>Open-Open</td>\n",
       "      <td>[4.223895003341291e-05]</td>\n",
       "    </tr>\n",
       "  </tbody>\n",
       "</table>\n",
       "</div>"
      ],
      "text/plain": [
       "            0                          1\n",
       "0        Open   [-0.0014193151081736124]\n",
       "1        High    [0.0007235049292818937]\n",
       "2         Low    [0.0008105051462531683]\n",
       "3       Close  [-0.00010784161163547046]\n",
       "4         RSI    [2.171917774233977e-05]\n",
       "5  Open-Close    [0.0006793375442596124]\n",
       "6   Open-Open    [4.223895003341291e-05]"
      ]
     },
     "execution_count": 22,
     "metadata": {},
     "output_type": "execute_result"
    }
   ],
   "source": [
    "#after fitting the model, lets check the coeff of the model\n",
    "pd.DataFrame(zip(X.columns, np.transpose(model.coef_)))"
   ]
  },
  {
   "cell_type": "code",
   "execution_count": 24,
   "id": "b1611ca5",
   "metadata": {},
   "outputs": [
    {
     "name": "stdout",
     "output_type": "stream",
     "text": [
      "[[0.47056672 0.52943328]\n",
      " [0.44592887 0.55407113]\n",
      " [0.37631283 0.62368717]\n",
      " ...\n",
      " [0.52992617 0.47007383]\n",
      " [0.43614197 0.56385803]\n",
      " [0.40195869 0.59804131]]\n"
     ]
    }
   ],
   "source": [
    "#checking the Probabilituy on the Test data\n",
    "probability = model.predict_proba(X_test)\n",
    "print (probability)"
   ]
  },
  {
   "cell_type": "markdown",
   "id": "536901bf",
   "metadata": {},
   "source": [
    "we will have to predict the classs labels using predict function for the test dataset."
   ]
  },
  {
   "cell_type": "code",
   "execution_count": 25,
   "id": "6cef2720",
   "metadata": {},
   "outputs": [],
   "source": [
    "probability = model.predict_proba(X_test)"
   ]
  },
  {
   "cell_type": "code",
   "execution_count": 26,
   "id": "e9b6ee23",
   "metadata": {},
   "outputs": [
    {
     "name": "stdout",
     "output_type": "stream",
     "text": [
      "[[0.47056672 0.52943328]\n",
      " [0.44592887 0.55407113]\n",
      " [0.37631283 0.62368717]\n",
      " ...\n",
      " [0.52992617 0.47007383]\n",
      " [0.43614197 0.56385803]\n",
      " [0.40195869 0.59804131]]\n"
     ]
    }
   ],
   "source": [
    "print(probability)"
   ]
  },
  {
   "cell_type": "code",
   "execution_count": 31,
   "id": "ecd31255",
   "metadata": {},
   "outputs": [
    {
     "data": {
      "text/plain": [
       "array([ 1,  1,  1,  1,  1,  1,  1,  1,  1,  1,  1, -1,  1,  1,  1])"
      ]
     },
     "execution_count": 31,
     "metadata": {},
     "output_type": "execute_result"
    }
   ],
   "source": [
    "predicted = model.predict(X_test)\n",
    "predicted[:15]"
   ]
  },
  {
   "cell_type": "markdown",
   "id": "7229cf28",
   "metadata": {},
   "source": [
    "we can see that the Labels are being predicted based on the strategy we have given to the model, so when P(>0.5) then array will return 1\n",
    "when the p(<0.5) the array will return -1 signal"
   ]
  },
  {
   "cell_type": "markdown",
   "id": "e88ef653",
   "metadata": {},
   "source": [
    "### Model Evaluation"
   ]
  },
  {
   "cell_type": "code",
   "execution_count": 32,
   "id": "d6c4a2ff",
   "metadata": {},
   "outputs": [
    {
     "name": "stdout",
     "output_type": "stream",
     "text": [
      "[[104 338]\n",
      " [112 382]]\n"
     ]
    }
   ],
   "source": [
    "print(metrics.confusion_matrix(y_test, predicted))"
   ]
  },
  {
   "cell_type": "markdown",
   "id": "bac9dc4b",
   "metadata": {},
   "source": [
    "better way to analyse Confustion Matrix is :"
   ]
  },
  {
   "cell_type": "code",
   "execution_count": 34,
   "id": "ae01e6f9",
   "metadata": {},
   "outputs": [
    {
     "name": "stdout",
     "output_type": "stream",
     "text": [
      "              precision    recall  f1-score   support\n",
      "\n",
      "          -1       0.48      0.24      0.32       442\n",
      "           1       0.53      0.77      0.63       494\n",
      "\n",
      "    accuracy                           0.52       936\n",
      "   macro avg       0.51      0.50      0.47       936\n",
      "weighted avg       0.51      0.52      0.48       936\n",
      "\n"
     ]
    }
   ],
   "source": [
    "print(metrics.classification_report(y_test, predicted))"
   ]
  },
  {
   "cell_type": "markdown",
   "id": "a88df832",
   "metadata": {},
   "source": [
    "The f1-score tells you the accuracy of the classifier in classifying the data points in that particular class compared to all other class. It is calculated by taking the harmonic mean of precision and recall. The support is the number of samples of the true response that lies in that class.\n",
    "here, F1 score is 0.52"
   ]
  },
  {
   "cell_type": "code",
   "execution_count": 35,
   "id": "c71c2a12",
   "metadata": {},
   "outputs": [
    {
     "name": "stdout",
     "output_type": "stream",
     "text": [
      "0.5192307692307693\n"
     ]
    }
   ],
   "source": [
    "print(model.score(X_test,y_test))"
   ]
  },
  {
   "cell_type": "markdown",
   "id": "bf9ae4b7",
   "metadata": {},
   "source": [
    "so, we can say that, model is able to predict with 52% accuracy"
   ]
  },
  {
   "cell_type": "code",
   "execution_count": 36,
   "id": "c8ab49f1",
   "metadata": {},
   "outputs": [],
   "source": [
    "#To increase the accuracy, we can add k-fold cross validation to the model\n",
    "cross_val = cross_val_score(LogisticRegression(), X, y, scoring='accuracy', cv=10)"
   ]
  },
  {
   "cell_type": "code",
   "execution_count": 37,
   "id": "eac826c5",
   "metadata": {},
   "outputs": [
    {
     "name": "stdout",
     "output_type": "stream",
     "text": [
      "[0.52884615 0.5        0.53205128 0.53525641 0.5        0.50641026\n",
      " 0.50961538 0.53205128 0.5        0.50482315]\n"
     ]
    }
   ],
   "source": [
    "print(cross_val)"
   ]
  },
  {
   "cell_type": "code",
   "execution_count": 38,
   "id": "31f9a208",
   "metadata": {},
   "outputs": [
    {
     "name": "stdout",
     "output_type": "stream",
     "text": [
      "0.514905392035617\n"
     ]
    }
   ],
   "source": [
    "print(cross_val.mean())"
   ]
  },
  {
   "cell_type": "markdown",
   "id": "de04f672",
   "metadata": {},
   "source": [
    "#### After the Cross Validation also, we are not getting the accuracy more than 52%\n",
    "we need to plot the chart to see the overall performance w.r.t underlyying prices of the BankMifty"
   ]
  },
  {
   "cell_type": "code",
   "execution_count": 39,
   "id": "db40617a",
   "metadata": {},
   "outputs": [],
   "source": [
    "df['Predicted_Signal'] = model.predict(X)"
   ]
  },
  {
   "cell_type": "code",
   "execution_count": 45,
   "id": "8a00c2c1",
   "metadata": {},
   "outputs": [],
   "source": [
    "df['Bank Nifty_returns'] = np.log(df['Close']/df['Close'].shift(1))"
   ]
  },
  {
   "cell_type": "code",
   "execution_count": 46,
   "id": "223deadf",
   "metadata": {},
   "outputs": [
    {
     "data": {
      "image/png": "[encoded data removed]",
      "text/plain": [
       "<Figure size 720x360 with 1 Axes>"
      ]
     },
     "metadata": {
      "needs_background": "light"
     },
     "output_type": "display_data"
    }
   ],
   "source": [
    "Cumulative_Nifty_returns = np.cumsum(df[split:]['Bank Nifty_returns'])\n",
    "df['Startegy_returns'] = df['Bank Nifty_returns']* df['Predicted_Signal'].shift(1)\n",
    "Cumulative_Strategy_returns = np.cumsum(df[split:]['Startegy_returns'])\n",
    "plt.figure(figsize=(10,5))\n",
    "plt.plot(Cumulative_Nifty_returns, color='r',label = 'Bank Nifty Returns')\n",
    "plt.plot(Cumulative_Strategy_returns, color='g', label = 'Strategy Returns')\n",
    "plt.legend()\n",
    "plt.show()"
   ]
  },
  {
   "cell_type": "markdown",
   "id": "930d7bb7",
   "metadata": {},
   "source": [
    "we can see that the Strategy is not that fit with the model\n",
    "\n"
   ]
  }
 ],
 "metadata": {
  "kernelspec": {
   "display_name": "Python 3",
   "language": "python",
   "name": "python3"
  },
  "language_info": {
   "codemirror_mode": {
    "name": "ipython",
    "version": 3
   },
   "file_extension": ".py",
   "mimetype": "text/x-python",
   "name": "python",
   "nbconvert_exporter": "python",
   "pygments_lexer": "ipython3",
   "version": "3.8.8"
  }
 },
 "nbformat": 4,
 "nbformat_minor": 5
}
